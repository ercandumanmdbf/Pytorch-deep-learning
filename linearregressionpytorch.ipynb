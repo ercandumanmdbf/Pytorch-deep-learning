{
 "cells": [
  {
   "cell_type": "markdown",
   "id": "04301f78-3079-455d-87b0-b96b55459017",
   "metadata": {},
   "source": [
    "## data ai team linear regression education"
   ]
  },
  {
   "cell_type": "code",
   "execution_count": 1,
   "id": "fe997e48-1e84-4054-9eaf-2aa0fd0f0eab",
   "metadata": {},
   "outputs": [],
   "source": [
    "import numpy as np"
   ]
  },
  {
   "cell_type": "code",
   "execution_count": 2,
   "id": "c4d13519-936e-4b59-9c4e-0506330b4e76",
   "metadata": {},
   "outputs": [],
   "source": [
    "car_prices_array=[3,4,5,6,7,8,9]\n",
    "car_price_np=np.array(car_prices_array,dtype=np.float32)"
   ]
  },
  {
   "cell_type": "code",
   "execution_count": 3,
   "id": "4e24a1c4-bcbf-4720-8583-7cdf743b1ae9",
   "metadata": {},
   "outputs": [],
   "source": [
    "car_price_np=car_price_np.reshape(-1,1)"
   ]
  },
  {
   "cell_type": "code",
   "execution_count": 4,
   "id": "12791da6-ea09-4e5b-9220-de06c8ab70f6",
   "metadata": {},
   "outputs": [
    {
     "data": {
      "text/plain": [
       "array([[3.],\n",
       "       [4.],\n",
       "       [5.],\n",
       "       [6.],\n",
       "       [7.],\n",
       "       [8.],\n",
       "       [9.]], dtype=float32)"
      ]
     },
     "execution_count": 4,
     "metadata": {},
     "output_type": "execute_result"
    }
   ],
   "source": [
    "car_price_np"
   ]
  },
  {
   "cell_type": "code",
   "execution_count": 7,
   "id": "74ec1130-f591-43f5-8f27-27355176877d",
   "metadata": {},
   "outputs": [],
   "source": [
    "import torch\n",
    "from torch.autograd import Variable"
   ]
  },
  {
   "cell_type": "code",
   "execution_count": 8,
   "id": "73b9dc83-d3d2-49f0-8553-9f7479dcea44",
   "metadata": {},
   "outputs": [],
   "source": [
    "car_price_tensor=Variable(torch.from_numpy(car_price_np))"
   ]
  },
  {
   "cell_type": "code",
   "execution_count": 9,
   "id": "7426cf82-7423-4781-901f-c71d2c4695b3",
   "metadata": {},
   "outputs": [
    {
     "data": {
      "text/plain": [
       "tensor([[3.],\n",
       "        [4.],\n",
       "        [5.],\n",
       "        [6.],\n",
       "        [7.],\n",
       "        [8.],\n",
       "        [9.]])"
      ]
     },
     "execution_count": 9,
     "metadata": {},
     "output_type": "execute_result"
    }
   ],
   "source": [
    "car_price_tensor"
   ]
  },
  {
   "cell_type": "code",
   "execution_count": 10,
   "id": "30d09019-713a-4b05-bf21-0842e9309e0b",
   "metadata": {},
   "outputs": [],
   "source": [
    "number_of_car_sell_array = [ 7.5, 7, 6.5, 6.0, 5.5, 5.0, 4.5]\n",
    "number_of_car_sell_np = np.array(number_of_car_sell_array,dtype=np.float32)\n",
    "number_of_car_sell_np = number_of_car_sell_np.reshape(-1,1)\n",
    "number_of_car_sell_tensor = Variable(torch.from_numpy(number_of_car_sell_np))\n"
   ]
  },
  {
   "cell_type": "code",
   "execution_count": 11,
   "id": "4c500ba7-be34-4051-8730-9e2091537e0c",
   "metadata": {},
   "outputs": [
    {
     "data": {
      "text/plain": [
       "tensor([[7.5000],\n",
       "        [7.0000],\n",
       "        [6.5000],\n",
       "        [6.0000],\n",
       "        [5.5000],\n",
       "        [5.0000],\n",
       "        [4.5000]])"
      ]
     },
     "execution_count": 11,
     "metadata": {},
     "output_type": "execute_result"
    }
   ],
   "source": [
    "number_of_car_sell_tensor"
   ]
  },
  {
   "cell_type": "code",
   "execution_count": 12,
   "id": "a53619e8-f92e-41af-b130-0f74129f7466",
   "metadata": {},
   "outputs": [
    {
     "data": {
      "text/plain": [
       "Text(0.5, 1.0, 'Car Price$ VS Number of Car Sell')"
      ]
     },
     "execution_count": 12,
     "metadata": {},
     "output_type": "execute_result"
    },
    {
     "data": {
      "image/png": "[encoded data removed]",
      "text/plain": [
       "<Figure size 640x480 with 1 Axes>"
      ]
     },
     "metadata": {},
     "output_type": "display_data"
    }
   ],
   "source": [
    "import matplotlib.pyplot as plt\n",
    "plt.scatter(car_prices_array,number_of_car_sell_array)\n",
    "plt.xlabel(\"Car Price $\")\n",
    "plt.ylabel(\"Number of Car Sell\")\n",
    "plt.title(\"Car Price$ VS Number of Car Sell\")"
   ]
  },
  {
   "cell_type": "code",
   "execution_count": 13,
   "id": "ee98ee46-a443-4318-89b4-e35227b4138b",
   "metadata": {},
   "outputs": [],
   "source": [
    "import torch.nn as nn \n",
    "import warnings\n",
    "warnings.filterwarnings(\"ignore\")"
   ]
  },
  {
   "cell_type": "code",
   "execution_count": 17,
   "id": "4969f400-8344-4ed2-8bba-f5212f0eca6d",
   "metadata": {},
   "outputs": [],
   "source": [
    "class LinearRegression(nn.Module):\n",
    "    def __init__(self,input_size,output_size):\n",
    "        \n",
    "    \n",
    "        super(LinearRegression,self).__init__()\n",
    "        self.linear = nn.Linear(input_dim,output_dim)\n",
    "\n",
    "    def forward(self,x):\n",
    "        return self.linear(x)"
   ]
  },
  {
   "cell_type": "code",
   "execution_count": 18,
   "id": "0bed6a12-9502-4ecc-96ed-c4a8707cec72",
   "metadata": {},
   "outputs": [],
   "source": [
    "input_dim = 1\n",
    "output_dim = 1\n",
    "model = LinearRegression(input_dim,output_dim)"
   ]
  },
  {
   "cell_type": "code",
   "execution_count": 19,
   "id": "5dfba628-864e-4914-a803-8fbaabb39dab",
   "metadata": {},
   "outputs": [],
   "source": [
    "mse = nn.MSELoss()"
   ]
  },
  {
   "cell_type": "code",
   "execution_count": 20,
   "id": "c497ad90-60ce-49c8-8688-6f2b585ed34b",
   "metadata": {},
   "outputs": [
    {
     "data": {
      "text/plain": [
       "MSELoss()"
      ]
     },
     "execution_count": 20,
     "metadata": {},
     "output_type": "execute_result"
    }
   ],
   "source": [
    "mse"
   ]
  },
  {
   "cell_type": "code",
   "execution_count": 21,
   "id": "3f86f6c0-5d1d-4867-bfd9-eac5441c7c21",
   "metadata": {},
   "outputs": [],
   "source": [
    "learning_rate = 0.02   \n",
    "optimizer = torch.optim.SGD(model.parameters(),lr = learning_rate)"
   ]
  },
  {
   "cell_type": "code",
   "execution_count": 22,
   "id": "fcb8ee63-eed2-489a-aec9-5ca31f30d1e2",
   "metadata": {},
   "outputs": [
    {
     "name": "stdout",
     "output_type": "stream",
     "text": [
      "epoch 0, loss 162.9718475341797\n",
      "epoch 50, loss 6.310705661773682\n",
      "epoch 100, loss 4.264408588409424\n",
      "epoch 150, loss 2.8816394805908203\n",
      "epoch 200, loss 1.9472453594207764\n",
      "epoch 250, loss 1.3158349990844727\n",
      "epoch 300, loss 0.8891640901565552\n",
      "epoch 350, loss 0.6008453965187073\n",
      "epoch 400, loss 0.40601634979248047\n",
      "epoch 450, loss 0.27436205744743347\n",
      "epoch 500, loss 0.18539753556251526\n",
      "epoch 550, loss 0.1252806931734085\n",
      "epoch 600, loss 0.08465705811977386\n",
      "epoch 650, loss 0.05720653757452965\n",
      "epoch 700, loss 0.03865691274404526\n",
      "epoch 750, loss 0.02612217329442501\n",
      "epoch 800, loss 0.017651770263910294\n",
      "epoch 850, loss 0.011928042396903038\n",
      "epoch 900, loss 0.00806027464568615\n",
      "epoch 950, loss 0.005446738097816706\n",
      "epoch 1000, loss 0.003680566092953086\n"
     ]
    }
   ],
   "source": [
    "loss_list = []\n",
    "iteration_number = 1001\n",
    "for iteration in range(iteration_number):\n",
    "        \n",
    "    # optimization\n",
    "    optimizer.zero_grad() \n",
    "    \n",
    "    # Forward to get output\n",
    "    results = model(car_price_tensor)\n",
    "    \n",
    "    # Calculate Loss\n",
    "    loss = mse(results, number_of_car_sell_tensor)\n",
    "    \n",
    "    # backward propagation\n",
    "    loss.backward()\n",
    "    \n",
    "    # Updating parameters\n",
    "    optimizer.step()\n",
    "    \n",
    "    # store loss\n",
    "    loss_list.append(loss.data)\n",
    "    \n",
    "    # print loss\n",
    "    if(iteration % 50 == 0):\n",
    "        print('epoch {}, loss {}'.format(iteration, loss.data))"
   ]
  },
  {
   "cell_type": "code",
   "execution_count": 23,
   "id": "f41829f9-e3a2-40d9-9cf1-0303e842cb0f",
   "metadata": {},
   "outputs": [
    {
     "data": {
      "text/plain": [
       "Text(0, 0.5, 'Loss')"
      ]
     },
     "execution_count": 23,
     "metadata": {},
     "output_type": "execute_result"
    },
    {
     "data": {
      "image/png": "[encoded data removed]",
      "text/plain": [
       "<Figure size 640x480 with 1 Axes>"
      ]
     },
     "metadata": {},
     "output_type": "display_data"
    }
   ],
   "source": [
    "plt.plot(range(iteration_number),loss_list)\n",
    "plt.xlabel(\"Number of Iterations\")\n",
    "plt.ylabel(\"Loss\")"
   ]
  },
  {
   "cell_type": "code",
   "execution_count": 26,
   "id": "e7bc94dc-5e0d-4a3d-a2f1-49c25297ed59",
   "metadata": {},
   "outputs": [
    {
     "data": {
      "text/plain": [
       "Text(0.5, 1.0, 'Original vs Predicted values')"
      ]
     },
     "execution_count": 26,
     "metadata": {},
     "output_type": "execute_result"
    },
    {
     "data": {
      "image/png": "[encoded data removed]",
      "text/plain": [
       "<Figure size 640x480 with 1 Axes>"
      ]
     },
     "metadata": {},
     "output_type": "display_data"
    }
   ],
   "source": [
    "predicted = model(car_price_tensor).data.numpy()\n",
    "plt.scatter(car_prices_array,number_of_car_sell_array,label = \"original data\",color =\"red\")\n",
    "plt.scatter(car_prices_array,predicted,label = \"predicted data\",color =\"blue\")\n",
    "plt.legend()\n",
    "plt.xlabel(\"Car Price $\")\n",
    "plt.ylabel(\"Number of Car Sell\")\n",
    "plt.title(\"Original vs Predicted values\")"
   ]
  },
  {
   "cell_type": "markdown",
   "id": "d64d3cb2-83e6-475d-b4d9-5e38915fa844",
   "metadata": {},
   "source": [
    "this is taken from the tutorial of linear regression model on pytorch"
   ]
  },
  {
   "cell_type": "code",
   "execution_count": null,
   "id": "23365f37-75da-488c-be7a-6e5578858ff4",
   "metadata": {},
   "outputs": [],
   "source": []
  }
 ],
 "metadata": {
  "kernelspec": {
   "display_name": "Python 3 (ipykernel)",
   "language": "python",
   "name": "python3"
  },
  "language_info": {
   "codemirror_mode": {
    "name": "ipython",
    "version": 3
   },
   "file_extension": ".py",
   "mimetype": "text/x-python",
   "name": "python",
   "nbconvert_exporter": "python",
   "pygments_lexer": "ipython3",
   "version": "3.11.7"
  }
 },
 "nbformat": 4,
 "nbformat_minor": 5
}
