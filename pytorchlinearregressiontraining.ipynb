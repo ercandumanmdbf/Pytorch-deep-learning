{
 "cells": [
  {
   "cell_type": "markdown",
   "id": "b5daef46-82f1-472f-b368-9e95110987da",
   "metadata": {},
   "source": [
    "## training on a dummy dataset"
   ]
  },
  {
   "cell_type": "code",
   "execution_count": 2,
   "id": "3e9ae8b5-8ce8-4076-9794-8b80da506915",
   "metadata": {},
   "outputs": [],
   "source": [
    "import numpy as np"
   ]
  },
  {
   "cell_type": "markdown",
   "id": "bd87af75-37e5-4cb7-9c2e-22cc94569965",
   "metadata": {},
   "source": [
    "### now we create an X an y sets"
   ]
  },
  {
   "cell_type": "code",
   "execution_count": 3,
   "id": "7ac6a914-98d8-4285-9df3-84103f45fa4a",
   "metadata": {},
   "outputs": [],
   "source": [
    "X_values=[i for i in range(20)]\n",
    "X_train=np.array(X_values,dtype=np.float32) #creating a train np array set\n",
    "X_train=X_train.reshape(-1,1) #for avoid the error when we change the array to tensor"
   ]
  },
  {
   "cell_type": "code",
   "execution_count": 4,
   "id": "77918470-8de7-429b-951d-f2495967ea7d",
   "metadata": {},
   "outputs": [],
   "source": [
    "y_values=[2*i+1 for i in X_values] #creating values on y for each X (y=2x+1)\n",
    "y_train=np.array(y_values,dtype=np.float32)\n",
    "y_train=y_train.reshape(-1,1)"
   ]
  },
  {
   "cell_type": "code",
   "execution_count": 5,
   "id": "94a82710-0bc3-4e13-b68d-9ed916ce0753",
   "metadata": {},
   "outputs": [
    {
     "data": {
      "text/plain": [
       "array([[ 0.],\n",
       "       [ 1.],\n",
       "       [ 2.],\n",
       "       [ 3.],\n",
       "       [ 4.],\n",
       "       [ 5.],\n",
       "       [ 6.],\n",
       "       [ 7.],\n",
       "       [ 8.],\n",
       "       [ 9.],\n",
       "       [10.],\n",
       "       [11.],\n",
       "       [12.],\n",
       "       [13.],\n",
       "       [14.],\n",
       "       [15.],\n",
       "       [16.],\n",
       "       [17.],\n",
       "       [18.],\n",
       "       [19.]], dtype=float32)"
      ]
     },
     "execution_count": 5,
     "metadata": {},
     "output_type": "execute_result"
    }
   ],
   "source": [
    "X_train"
   ]
  },
  {
   "cell_type": "code",
   "execution_count": 6,
   "id": "861ae555-3f1a-48b4-9b5c-ae81a5c31d2c",
   "metadata": {},
   "outputs": [
    {
     "data": {
      "text/plain": [
       "array([[ 1.],\n",
       "       [ 3.],\n",
       "       [ 5.],\n",
       "       [ 7.],\n",
       "       [ 9.],\n",
       "       [11.],\n",
       "       [13.],\n",
       "       [15.],\n",
       "       [17.],\n",
       "       [19.],\n",
       "       [21.],\n",
       "       [23.],\n",
       "       [25.],\n",
       "       [27.],\n",
       "       [29.],\n",
       "       [31.],\n",
       "       [33.],\n",
       "       [35.],\n",
       "       [37.],\n",
       "       [39.]], dtype=float32)"
      ]
     },
     "execution_count": 6,
     "metadata": {},
     "output_type": "execute_result"
    }
   ],
   "source": [
    "y_train"
   ]
  },
  {
   "cell_type": "code",
   "execution_count": 7,
   "id": "828ae4e5-d21d-4410-a9a1-4fd8abcd5fe4",
   "metadata": {},
   "outputs": [],
   "source": [
    "import torch\n",
    "from torch.autograd import Variable #import the library for linear regression on pytorch"
   ]
  },
  {
   "cell_type": "code",
   "execution_count": 18,
   "id": "50817104-3e69-48e4-a07f-0be1ecc6fc72",
   "metadata": {},
   "outputs": [],
   "source": [
    "#creating class for linear regression\n",
    "class linearRegression(torch.nn.Module):\n",
    "    def __init__(self,inputSize,outputSize):\n",
    "        super(linearRegression,self).__init__()\n",
    "        self.linear=torch.nn.Linear(inputSize,outputSize)\n",
    "\n",
    "    def forward(self,X):\n",
    "        out=self.linear(X)\n",
    "        return out"
   ]
  },
  {
   "cell_type": "code",
   "execution_count": 19,
   "id": "61d758c4-22f9-412b-ab8c-cd17170729ff",
   "metadata": {},
   "outputs": [],
   "source": [
    "#instatiate the model\n",
    "inputDim=1\n",
    "outputDim=1\n",
    "learningRate=0.02\n",
    "\n",
    "model=linearRegression(inputDim,outputDim)"
   ]
  },
  {
   "cell_type": "code",
   "execution_count": 20,
   "id": "9715cff3-9f3f-4401-ab14-c78355832745",
   "metadata": {},
   "outputs": [
    {
     "data": {
      "text/plain": [
       "linearRegression(\n",
       "  (linear): Linear(in_features=1, out_features=1, bias=True)\n",
       ")"
      ]
     },
     "execution_count": 20,
     "metadata": {},
     "output_type": "execute_result"
    }
   ],
   "source": [
    "model"
   ]
  },
  {
   "cell_type": "code",
   "execution_count": 21,
   "id": "71188e75-a97e-4461-a384-d4c4df54ce60",
   "metadata": {},
   "outputs": [],
   "source": [
    "criterion = torch.nn.MSELoss() \n",
    "optimizer = torch.optim.SGD(model.parameters(), lr=learningRate)"
   ]
  },
  {
   "cell_type": "code",
   "execution_count": 26,
   "id": "d74d4af5-7521-4c4d-ac88-8e33ca1cbed0",
   "metadata": {},
   "outputs": [
    {
     "name": "stdout",
     "output_type": "stream",
     "text": [
      "tensor(927.1019, grad_fn=<MseLossBackward0>)\n",
      "epoch 99, loss 927.1018676757812\n"
     ]
    }
   ],
   "source": [
    "epochs = 100\n",
    "for epoch in range(epochs):\n",
    "    \n",
    "        inputs = Variable(torch.from_numpy(X_train))\n",
    "        labels = Variable(torch.from_numpy(y_train))\n",
    "\n",
    "# Clear gradient buffers because we don't want any gradient from previous epoch to carry forward, dont want to cummulate gradients\n",
    "optimizer.zero_grad()\n",
    "\n",
    "# get output from the model, given the inputs\n",
    "outputs = model(inputs)\n",
    "\n",
    "# get loss for the predicted output\n",
    "loss = criterion(outputs, labels)\n",
    "print(loss)\n",
    "# get gradients w.r.t to parameters\n",
    "loss.backward()\n",
    "\n",
    "# update parameters\n",
    "optimizer.step()\n",
    "\n",
    "print('epoch {}, loss {}'.format(epoch, loss.item()))"
   ]
  },
  {
   "cell_type": "code",
   "execution_count": 31,
   "id": "b352c097-f188-4791-8b02-474e2d77c318",
   "metadata": {},
   "outputs": [
    {
     "name": "stdout",
     "output_type": "stream",
     "text": [
      "[[  1.8654412]\n",
      " [ 14.6741495]\n",
      " [ 27.482857 ]\n",
      " [ 40.291565 ]\n",
      " [ 53.100273 ]\n",
      " [ 65.90898  ]\n",
      " [ 78.71769  ]\n",
      " [ 91.5264   ]\n",
      " [104.335106 ]\n",
      " [117.143814 ]\n",
      " [129.95253  ]\n",
      " [142.76123  ]\n",
      " [155.56995  ]\n",
      " [168.37866  ]\n",
      " [181.18736  ]\n",
      " [193.99606  ]\n",
      " [206.80478  ]\n",
      " [219.6135   ]\n",
      " [232.4222   ]\n",
      " [245.2309   ]]\n"
     ]
    },
    {
     "data": {
      "text/plain": [
       "<matplotlib.legend.Legend at 0x1d228b2c590>"
      ]
     },
     "execution_count": 31,
     "metadata": {},
     "output_type": "execute_result"
    },
    {
     "data": {
      "image/png": "[encoded data removed]",
      "text/plain": [
       "<Figure size 640x480 with 1 Axes>"
      ]
     },
     "metadata": {},
     "output_type": "display_data"
    }
   ],
   "source": [
    "with torch.no_grad(): # we don't need gradients in the testing phase\n",
    "    \n",
    "    predicted = model(Variable(torch.from_numpy(X_train))).data.numpy()\n",
    "    print(predicted)\n",
    "\n",
    "import matplotlib.pyplot as plt\n",
    "\n",
    "plt.clf()\n",
    "plt.plot(X_train, y_train, 'go', label='True data', alpha=0.5)\n",
    "plt.plot(X_train, predicted, '--', label='Predictions', alpha=0.5)\n",
    "plt.legend(loc='best')\n"
   ]
  },
  {
   "cell_type": "markdown",
   "id": "c05f6ea3-ab36-4e29-9f93-35f64d18f24a",
   "metadata": {},
   "source": [
    "this is a simple tutorial for linear regression model on pytorch"
   ]
  },
  {
   "cell_type": "code",
   "execution_count": null,
   "id": "72548cfb-0b86-4659-9036-c27ff2c63f2f",
   "metadata": {},
   "outputs": [],
   "source": []
  }
 ],
 "metadata": {
  "kernelspec": {
   "display_name": "Python 3 (ipykernel)",
   "language": "python",
   "name": "python3"
  },
  "language_info": {
   "codemirror_mode": {
    "name": "ipython",
    "version": 3
   },
   "file_extension": ".py",
   "mimetype": "text/x-python",
   "name": "python",
   "nbconvert_exporter": "python",
   "pygments_lexer": "ipython3",
   "version": "3.11.7"
  }
 },
 "nbformat": 4,
 "nbformat_minor": 5
}
