{
 "cells": [
  {
   "cell_type": "code",
   "execution_count": 1,
   "id": "275dc363-ecfe-4a91-8e5b-ac6f03e8d1cf",
   "metadata": {},
   "outputs": [],
   "source": [
    "import torch"
   ]
  },
  {
   "cell_type": "code",
   "execution_count": 2,
   "id": "4bda5589-2138-4962-889e-3f30fabc2874",
   "metadata": {},
   "outputs": [],
   "source": [
    "tensor = torch.ones(3,3)"
   ]
  },
  {
   "cell_type": "code",
   "execution_count": 3,
   "id": "39745545-060c-4bb3-aa81-da957f458749",
   "metadata": {},
   "outputs": [
    {
     "data": {
      "text/plain": [
       "tensor([[1., 1., 1.],\n",
       "        [1., 1., 1.],\n",
       "        [1., 1., 1.]])"
      ]
     },
     "execution_count": 3,
     "metadata": {},
     "output_type": "execute_result"
    }
   ],
   "source": [
    "tensor"
   ]
  },
  {
   "cell_type": "code",
   "execution_count": 4,
   "id": "034c648e-2c5f-40e6-997a-4eb3ef537b0e",
   "metadata": {},
   "outputs": [
    {
     "data": {
      "text/plain": [
       "tensor([1., 1., 1., 1., 1., 1., 1., 1., 1.])"
      ]
     },
     "execution_count": 4,
     "metadata": {},
     "output_type": "execute_result"
    }
   ],
   "source": [
    "tensor.view(9)"
   ]
  },
  {
   "cell_type": "code",
   "execution_count": 7,
   "id": "232f1517-2de8-49d3-a57d-ae0e95477ef6",
   "metadata": {},
   "outputs": [
    {
     "data": {
      "text/plain": [
       "tensor([[2., 2., 2.],\n",
       "        [2., 2., 2.],\n",
       "        [2., 2., 2.]])"
      ]
     },
     "execution_count": 7,
     "metadata": {},
     "output_type": "execute_result"
    }
   ],
   "source": [
    "torch.add(tensor,tensor)"
   ]
  },
  {
   "cell_type": "code",
   "execution_count": 8,
   "id": "15913881-e10b-47bf-9996-4d4403d2a5ee",
   "metadata": {},
   "outputs": [
    {
     "data": {
      "text/plain": [
       "tensor([[0., 0., 0.],\n",
       "        [0., 0., 0.],\n",
       "        [0., 0., 0.]])"
      ]
     },
     "execution_count": 8,
     "metadata": {},
     "output_type": "execute_result"
    }
   ],
   "source": [
    "tensor.sub(tensor)"
   ]
  },
  {
   "cell_type": "code",
   "execution_count": 11,
   "id": "a4c63c13-1887-4bdf-b23b-e48b501f4aaa",
   "metadata": {},
   "outputs": [
    {
     "data": {
      "text/plain": [
       "tensor([[1., 1., 1.],\n",
       "        [1., 1., 1.],\n",
       "        [1., 1., 1.]])"
      ]
     },
     "execution_count": 11,
     "metadata": {},
     "output_type": "execute_result"
    }
   ],
   "source": [
    "tensor.mul(tensor)"
   ]
  },
  {
   "cell_type": "code",
   "execution_count": 12,
   "id": "0e9d2d4a-3a31-4690-ade7-4b5683f45d35",
   "metadata": {},
   "outputs": [
    {
     "data": {
      "text/plain": [
       "tensor([[1., 1., 1.],\n",
       "        [1., 1., 1.],\n",
       "        [1., 1., 1.]])"
      ]
     },
     "execution_count": 12,
     "metadata": {},
     "output_type": "execute_result"
    }
   ],
   "source": [
    "torch.mul(tensor,tensor)"
   ]
  },
  {
   "cell_type": "code",
   "execution_count": 13,
   "id": "cd18fbd3-0acd-408e-95c1-3c0bd3e7761c",
   "metadata": {},
   "outputs": [
    {
     "data": {
      "text/plain": [
       "tensor([[1., 1., 1.],\n",
       "        [1., 1., 1.],\n",
       "        [1., 1., 1.]])"
      ]
     },
     "execution_count": 13,
     "metadata": {},
     "output_type": "execute_result"
    }
   ],
   "source": [
    "torch.div(tensor,tensor)"
   ]
  },
  {
   "cell_type": "code",
   "execution_count": 14,
   "id": "281f29a4-1f43-4c65-8836-86b85a2afe63",
   "metadata": {},
   "outputs": [
    {
     "data": {
      "text/plain": [
       "tensor([[1., 1., 1.],\n",
       "        [1., 1., 1.],\n",
       "        [1., 1., 1.]])"
      ]
     },
     "execution_count": 14,
     "metadata": {},
     "output_type": "execute_result"
    }
   ],
   "source": [
    "tensor.div(tensor)"
   ]
  },
  {
   "cell_type": "code",
   "execution_count": 22,
   "id": "401a9ff6-239b-4728-8005-7a18abd6dce1",
   "metadata": {},
   "outputs": [],
   "source": [
    "tensor = torch.tensor([1,2,3,4,5])"
   ]
  },
  {
   "cell_type": "code",
   "execution_count": 27,
   "id": "9be56735-083e-48bd-85c7-47ada573bd25",
   "metadata": {},
   "outputs": [
    {
     "data": {
      "text/plain": [
       "tensor([1, 2, 3, 4, 5])"
      ]
     },
     "execution_count": 27,
     "metadata": {},
     "output_type": "execute_result"
    }
   ],
   "source": [
    "tensor"
   ]
  },
  {
   "cell_type": "code",
   "execution_count": 32,
   "id": "18ad8b4f-dd4f-4b3e-b588-c3d87e3fa633",
   "metadata": {},
   "outputs": [],
   "source": [
    "tensor=tensor.float()"
   ]
  },
  {
   "cell_type": "code",
   "execution_count": 33,
   "id": "091a8eb9-6fbf-4102-a88b-bd5c5321053f",
   "metadata": {},
   "outputs": [
    {
     "data": {
      "text/plain": [
       "tensor(3.)"
      ]
     },
     "execution_count": 33,
     "metadata": {},
     "output_type": "execute_result"
    }
   ],
   "source": [
    "tensor.mean()"
   ]
  },
  {
   "cell_type": "code",
   "execution_count": 34,
   "id": "4566c82d-1c25-41d0-8902-2daa5e9ea220",
   "metadata": {},
   "outputs": [
    {
     "data": {
      "text/plain": [
       "tensor(1.5811)"
      ]
     },
     "execution_count": 34,
     "metadata": {},
     "output_type": "execute_result"
    }
   ],
   "source": [
    "tensor.std()"
   ]
  },
  {
   "cell_type": "code",
   "execution_count": null,
   "id": "98aedae5-3806-4f65-8458-bd9a569e3e5c",
   "metadata": {},
   "outputs": [],
   "source": []
  }
 ],
 "metadata": {
  "kernelspec": {
   "display_name": "Python 3 (ipykernel)",
   "language": "python",
   "name": "python3"
  },
  "language_info": {
   "codemirror_mode": {
    "name": "ipython",
    "version": 3
   },
   "file_extension": ".py",
   "mimetype": "text/x-python",
   "name": "python",
   "nbconvert_exporter": "python",
   "pygments_lexer": "ipython3",
   "version": "3.11.7"
  }
 },
 "nbformat": 4,
 "nbformat_minor": 5
}
